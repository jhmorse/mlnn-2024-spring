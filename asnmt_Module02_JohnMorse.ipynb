{
 "cells": [
  {
   "cell_type": "code",
   "execution_count": 1,
   "metadata": {},
   "outputs": [],
   "source": [
    "import numpy as np\n",
    "import pandas as pd\n",
    "import scipy as sp"
   ]
  },
  {
   "cell_type": "code",
   "execution_count": 2,
   "metadata": {},
   "outputs": [],
   "source": [
    "%matplotlib inline\n",
    "import matplotlib.pyplot as plt\n",
    "plt.style.use('ggplot')"
   ]
  },
  {
   "cell_type": "code",
   "execution_count": 3,
   "metadata": {},
   "outputs": [
    {
     "name": "stdout",
     "output_type": "stream",
     "text": [
      "Overwriting hw_data.csv\n"
     ]
    }
   ],
   "source": [
    "%%file hw_data.csv\n",
    "id,sex,weight,height\n",
    "1,M,190,77\n",
    "2,F,120,70\n",
    "3,F,110,68\n",
    "4,M,150,72\n",
    "5,O,120,66\n",
    "6,M,120,60\n",
    "7,F,140,70"
   ]
  },
  {
   "cell_type": "markdown",
   "metadata": {},
   "source": [
    "# Python"
   ]
  },
  {
   "cell_type": "markdown",
   "metadata": {},
   "source": [
    "## 1. Finish creating the following function that takes a list and returns the average value.\n",
    "\n",
    "Add each element in the list to `total` and return `total`\n",
    "\n",
    "### DO NOT use a library function nor `sum()`"
   ]
  },
  {
   "cell_type": "code",
   "execution_count": 4,
   "metadata": {},
   "outputs": [
    {
     "data": {
      "text/plain": [
       "3.375"
      ]
     },
     "execution_count": 4,
     "metadata": {},
     "output_type": "execute_result"
    }
   ],
   "source": [
    "def average(my_list):\n",
    "    total = 0\n",
    "    for item in my_list:\n",
    "        #do something with item!\n",
    "        total = total + item\n",
    "    return total / len(my_list)\n",
    "\n",
    "average([1,2,1,4,3,2,5,9])"
   ]
  },
  {
   "cell_type": "markdown",
   "metadata": {},
   "source": [
    "## 2. Using a Dictionary keep track of the count of numbers (or items) from a list"
   ]
  },
  {
   "cell_type": "code",
   "execution_count": 5,
   "metadata": {},
   "outputs": [
    {
     "data": {
      "text/plain": [
       "{1: 2, 2: 2, 4: 1, 3: 1, 5: 1, 9: 1}"
      ]
     },
     "execution_count": 5,
     "metadata": {},
     "output_type": "execute_result"
    }
   ],
   "source": [
    "def counts(my_list):\n",
    "    counts = dict()\n",
    "    for item in my_list:\n",
    "        # check to see if the item is already in the dictionary\n",
    "        if item in counts:\n",
    "            # increment the count\n",
    "            counts[item] = counts[item] + 1\n",
    "        else:\n",
    "            # add the item to the dictionary with a count of 1\n",
    "            counts[item] = 1\n",
    "    \n",
    "    return counts\n",
    "\n",
    "counts([1,2,1,4,3,2,5,9])   \n",
    "\n"
   ]
  },
  {
   "cell_type": "markdown",
   "metadata": {},
   "source": [
    "## 3.  Using the `counts()` function you created above and the `.split()` function, return a dictionary of most occuring words from the following paragraph. Bonus, remove punctuation from words."
   ]
  },
  {
   "cell_type": "code",
   "execution_count": 18,
   "metadata": {},
   "outputs": [
    {
     "name": "stdout",
     "output_type": "stream",
     "text": [
      "{'the': 34, 'and': 19, 'a': 16, 'to': 15, 'footman': 9, 'in': 9, 'of': 9, 'she': 8, 'was': 8, 'at': 7, 'for': 6, 'he': 6, 'his': 6, 'door': 6, 'you': 6, 'out': 5, 'alice': 5, '': 4, 'it': 4, 'had': 4, 'as': 4, 'this': 4, 'on': 4, 'i': 4, 'livery': 3, 'wood': 3, 'him': 3, 'because': 3, 'by': 3, 'fish': 3, 'large': 3, 'that': 3, 'all': 3, 'their': 3, 'from': 3, 'then': 3, 'into': 3, 'up': 3, 'said': 3, 'if': 3, 'might': 3, 'or': 2, 'two': 2, 'looking': 2, 'house': 2, 'what': 2, 'next': 2, 'when': 2, 'came': 2, 'be': 2, 'face': 2, 'only': 2, 'with': 2, 'opened': 2, 'eyes': 2, 'frog': 2, 'both': 2, 'over': 2, 'very': 2, 'know': 2, 'little': 2, 'great': 2, 'nearly': 2, 'other': 2, 'solemn': 2, 'tone': 2, 'duchess': 2, 'an': 2, 'invitation': 2, 'queen': 2, 'play': 2, 'croquet': 2, 'repeated': 2, 'same': 2, 'so': 2, 'her': 2, 'sky': 2, 'went': 2, 'no': 2, 'knocking': 2, 'are': 2, 'noise': 2, 'inside': 2, 'one': 2, 'could': 2, 'there': 2, 'pieces': 2, 'how': 2, 'am': 2, 'get': 2, 'but': 2, 'head': 2, 'minute': 1, 'stood': 1, 'wondering': 1, 'do': 1, 'suddenly': 1, 'running': 1, 'considered': 1, 'otherwise': 1, 'judging': 1, 'would': 1, 'have': 1, 'called': 1, 'rapped': 1, 'loudly': 1, 'knuckles': 1, 'another': 1, 'round': 1, 'like': 1, 'footmen': 1, 'noticed': 1, 'powdered': 1, 'hair': 1, 'curled': 1, 'heads': 1, 'felt': 1, 'curious': 1, 'about': 1, 'crept': 1, 'way': 1, 'listen': 1, 'began': 1, 'producing': 1, 'under': 1, 'arm': 1, 'letter': 1, 'himself': 1, 'handed': 1, 'saying': 1, 'changing': 1, 'order': 1, 'words': 1, 'they': 1, 'bowed': 1, 'low': 1, 'curls': 1, 'got': 1, 'entangled': 1, 'together': 1, 'laughed': 1, 'much': 1, 'run': 1, 'back': 1, 'fear': 1, 'hearing': 1, 'peeped': 1, 'gone': 1, 'sitting': 1, 'ground': 1, 'near': 1, 'staring': 1, 'stupidly': 1, 'timidly': 1, 'knocked': 1, 'theres': 1, 'sort': 1, 'use': 1, 'reasons': 1, 'first': 1, 'im': 1, 'side': 1, 'secondly': 1, 'theyre': 1, 'making': 1, 'such': 1, 'possibly': 1, 'hear': 1, 'certainly': 1, 'most': 1, 'extraordinary': 1, 'going': 1, 'within': 1, 'constant': 1, 'howling': 1, 'sneezing': 1, 'every': 1, 'now': 1, 'crash': 1, 'dish': 1, 'kettle': 1, 'been': 1, 'broken': 1, 'please': 1, 'some': 1, 'sense': 1, 'your': 1, 'without': 1, 'attending': 1, 'we': 1, 'between': 1, 'us': 1, 'instance': 1, 'were': 1, 'knock': 1, 'let': 1, 'time': 1, 'speaking': 1, 'thought': 1, 'decidedly': 1, 'uncivil': 1, 'perhaps': 1, 'cant': 1, 'help': 1, 'herself': 1, 'top': 1, 'any': 1, 'rate': 1, 'answer': 1, 'questions': 1, 'aloud': 1, 'shall': 1, 'sit': 1, 'here': 1, 'remarked': 1, 'till': 1, 'tomorrow': 1, 'moment': 1, 'plate': 1, 'skimming': 1, 'straight': 1, 'footmans': 1, 'just': 1, 'grazed': 1, 'nose': 1, 'broke': 1, 'against': 1, 'trees': 1, 'behind': 1}\n"
     ]
    }
   ],
   "source": [
    "paragraph_text = '''\n",
    "For a minute or two she stood looking at the house, and wondering what to do next, when suddenly a footman in livery came running out of the wood—(she considered him to be a footman because he was in livery: otherwise, judging by his face only, she would have called him a fish)—and rapped loudly at the door with his knuckles. It was opened by another footman in livery, with a round face, and large eyes like a frog; and both footmen, Alice noticed, had powdered hair that curled all over their heads. She felt very curious to know what it was all about, and crept a little way out of the wood to listen.\n",
    "The Fish-Footman began by producing from under his arm a great letter, nearly as large as himself, and this he handed over to the other, saying, in a solemn tone, ‘For the Duchess. An invitation from the Queen to play croquet.’ The Frog-Footman repeated, in the same solemn tone, only changing the order of the words a little, ‘From the Queen. An invitation for the Duchess to play croquet.’\n",
    "Then they both bowed low, and their curls got entangled together.\n",
    "Alice laughed so much at this, that she had to run back into the wood for fear of their hearing her; and when she next peeped out the Fish-Footman was gone, and the other was sitting on the ground near the door, staring stupidly up into the sky.\n",
    "Alice went timidly up to the door, and knocked.\n",
    "‘There’s no sort of use in knocking,’ said the Footman, ‘and that for two reasons. First, because I’m on the same side of the door as you are; secondly, because they’re making such a noise inside, no one could possibly hear you.’ And certainly there was a most extraordinary noise going on within—a constant howling and sneezing, and every now and then a great crash, as if a dish or kettle had been broken to pieces.\n",
    "‘Please, then,’ said Alice, ‘how am I to get in?’\n",
    "‘There might be some sense in your knocking,’ the Footman went on without attending to her, ‘if we had the door between us. For instance, if you were inside, you might knock, and I could let you out, you know.’ He was looking up into the sky all the time he was speaking, and this Alice thought decidedly uncivil. ‘But perhaps he can’t help it,’ she said to herself; ‘his eyes are so very nearly at the top of his head. But at any rate he might answer questions.—How am I to get in?’ she repeated, aloud.\n",
    "‘I shall sit here,’ the Footman remarked, ‘till tomorrow—’\n",
    "At this moment the door of the house opened, and a large plate came skimming out, straight at the Footman’s head: it just grazed his nose, and broke to pieces against one of the trees behind him.'''\n",
    "\n",
    "# Remove punctuation\n",
    "input = paragraph_text.replace('\\n', ' ').replace(',', '').replace('.', '').replace('—', ' ').replace(';', '').replace(':', '').replace('’', '').replace('‘', '').replace('“', '').replace('”', '').replace('(', ' ').replace(')', ' ').replace('-', ' ').replace('?', '')\n",
    "# change to all lower case\n",
    "input = input.lower()\n",
    "\n",
    "# Generate a list of words by splitting the paragraph\n",
    "paragraph_list = [x.strip() for x in input.split(\" \")]\n",
    "\n",
    "# Count the words in the list\n",
    "paragraph_dict = counts(paragraph_list)\n",
    "\n",
    "# sorting values in descending order\n",
    "paragraph_dict = dict(sorted(paragraph_dict.items(), key=lambda item: item[1], reverse=True))\n",
    "\n",
    "# print the resulting dictionary\n",
    "print(paragraph_dict)\n"
   ]
  },
  {
   "cell_type": "markdown",
   "metadata": {},
   "source": [
    "## 4. Read in a file using `open()` and iterated through the file line-by-line write each line from the file to a new file in a  `title()`-ized. Create your own file for input\n",
    "\n",
    "`This is the first line` ->  `This Is The First Line`\n",
    "\n",
    "Hint: There's a function to do this"
   ]
  },
  {
   "cell_type": "code",
   "execution_count": 19,
   "metadata": {},
   "outputs": [
    {
     "name": "stdout",
     "output_type": "stream",
     "text": [
      "This is line 1 -> 'Twas bryllyg, and the slythy toves\n",
      "\n",
      "This is line 2 -> Did gyre and gymble in the wabe.\n",
      "\n",
      "This is line 3 -> All mimsy were the borogoves,\n",
      "\n",
      "This is line 4 -> And the mome raths outgrabe.\n",
      "\n",
      "This is line 5 -> \n",
      "\n",
      "This is line 6 -> \"Beware the Jabberwock, my son!\n",
      "\n",
      "This is line 7 -> The jaws that bite, the claws that catch!\n",
      "\n",
      "This is line 8 -> Beware the Jubjub bird, and shun\n",
      "\n",
      "This is line 9 -> The frumious Bandersnatch!\"\n",
      "\n",
      "This is line 10 -> \n",
      "\n",
      "This is line 11 -> He took his vorpal sword in hand:\n",
      "\n",
      "This is line 12 -> Long time the manxome foe he sought—\n",
      "\n",
      "This is line 13 -> So rested he by the Tumtum tree,\n",
      "\n",
      "This is line 14 -> And stood awhile in thought.\n",
      "\n",
      "This is line 15 -> \n",
      "\n",
      "This is line 16 -> And as in uffish thought he stood,\n",
      "\n",
      "This is line 17 -> The Jabberwock, with eyes of flame,\n",
      "\n",
      "This is line 18 -> Came whiffling through the tulgey wood,\n",
      "\n",
      "This is line 19 -> And burbled as it came!\n",
      "\n",
      "This is line 20 -> \n",
      "\n",
      "This is line 21 -> One, two! One, two! And through and through\n",
      "\n",
      "This is line 22 -> The vorpal blade went snicker-snack!\n",
      "\n",
      "This is line 23 -> He left it dead, and with its head\n",
      "\n",
      "This is line 24 -> He went galumphing back.\n",
      "\n",
      "This is line 25 -> \n",
      "\n",
      "This is line 26 -> \"And hast thou slain the Jabberwock?\n",
      "\n",
      "This is line 27 -> Come to my arms, my beamish boy!\n",
      "\n",
      "This is line 28 -> O frabjous day! Callooh! Callay!\"\n",
      "\n",
      "This is line 29 -> He chortled in his joy.\n",
      "\n",
      "This is line 30 -> \n",
      "\n",
      "This is line 31 -> 'Twas brillig, and the slithy toves\n",
      "\n",
      "This is line 32 -> Did gyre and gimble in the wabe;\n",
      "\n",
      "This is line 33 -> All mimsy were the borogoves,\n",
      "\n",
      "This is line 34 -> And the mome raths outgrabe.\n"
     ]
    }
   ],
   "source": [
    "# define file paths for opening an writing to\n",
    "path = 'jabberwocky.txt'\n",
    "output = 'titlewocky.txt'\n",
    "\n",
    "# open the file we will iterate through\n",
    "f = open(path, 'r', encoding='utf-8')\n",
    "# initiate a variable for counting\n",
    "n = 0\n",
    "# open the two files, one for reading, one for writing\n",
    "with open(path, 'r', encoding='utf-8') as f1, open(output, 'w') as f2:\n",
    "    for line in f1:   # iterate over the lines in the file\n",
    "        n += 1\n",
    "        # Print the line read in\n",
    "        print('This is line ' + str(n) + ' -> ' + line)\n",
    "        # titleize the line and write it to the new file\n",
    "        f2.write(line.title())\n"
   ]
  },
  {
   "cell_type": "markdown",
   "metadata": {},
   "source": [
    "# Numpy"
   ]
  },
  {
   "cell_type": "markdown",
   "metadata": {},
   "source": [
    "## 1. Given a list, find the average using a numpy function. "
   ]
  },
  {
   "cell_type": "code",
   "execution_count": 21,
   "metadata": {},
   "outputs": [
    {
     "data": {
      "text/plain": [
       "3.375"
      ]
     },
     "execution_count": 21,
     "metadata": {},
     "output_type": "execute_result"
    }
   ],
   "source": [
    "simple_list = [1,2,1,4,3,2,5,9]\n",
    "\n",
    "np.mean(simple_list)"
   ]
  },
  {
   "cell_type": "markdown",
   "metadata": {},
   "source": [
    "## 2. Given two lists of Heights and Weights of individual, calculate the BMI of those individuals, without writing a `for-loop`"
   ]
  },
  {
   "cell_type": "code",
   "execution_count": 22,
   "metadata": {},
   "outputs": [
    {
     "data": {
      "text/plain": [
       "array([29.06592681, 27.73229978, 30.73941662, 24.16326531, 26.33288875])"
      ]
     },
     "execution_count": 22,
     "metadata": {},
     "output_type": "execute_result"
    }
   ],
   "source": [
    "heights = [174, 173, 173, 175, 171]\n",
    "weights = [88, 83, 92, 74, 77]\n",
    "\n",
    "np.array(weights) / np.square(heights) * 10000"
   ]
  },
  {
   "cell_type": "markdown",
   "metadata": {},
   "source": [
    "## 3. Create an array of length 20 filled with random values (between 0 to 1) "
   ]
  },
  {
   "cell_type": "code",
   "execution_count": 23,
   "metadata": {},
   "outputs": [
    {
     "data": {
      "text/plain": [
       "array([0.8288577 , 0.58113389, 0.56305998, 0.45825388, 0.56390915,\n",
       "       0.5867546 , 0.81642073, 0.73548135, 0.57808432, 0.5051861 ,\n",
       "       0.55972863, 0.00385458, 0.962544  , 0.02628332, 0.60860224,\n",
       "       0.32921316, 0.02184809, 0.22337482, 0.58803179, 0.0364485 ])"
      ]
     },
     "execution_count": 23,
     "metadata": {},
     "output_type": "execute_result"
    }
   ],
   "source": [
    "np.random.rand(20)"
   ]
  },
  {
   "cell_type": "markdown",
   "metadata": {},
   "source": [
    "## 4. Create an array with at least 1000 random numbers from normal distributions (normal). Then, plot a histogram of these values (`plt.hist`)."
   ]
  },
  {
   "cell_type": "code",
   "execution_count": 24,
   "metadata": {},
   "outputs": [
    {
     "data": {
      "text/plain": [
       "(array([  2.,   1.,   1.,   3.,   3.,  15.,  26.,  20.,  33.,  61.,  71.,\n",
       "         77.,  97.,  97., 106.,  84.,  78.,  68.,  45.,  37.,  31.,  18.,\n",
       "         11.,   5.,   5.,   3.,   1.,   0.,   0.,   1.]),\n",
       " array([-3.40394507, -3.16039408, -2.91684309, -2.67329209, -2.4297411 ,\n",
       "        -2.18619011, -1.94263911, -1.69908812, -1.45553713, -1.21198613,\n",
       "        -0.96843514, -0.72488415, -0.48133316, -0.23778216,  0.00576883,\n",
       "         0.24931982,  0.49287082,  0.73642181,  0.9799728 ,  1.2235238 ,\n",
       "         1.46707479,  1.71062578,  1.95417677,  2.19772777,  2.44127876,\n",
       "         2.68482975,  2.92838075,  3.17193174,  3.41548273,  3.65903373,\n",
       "         3.90258472]),\n",
       " <BarContainer object of 30 artists>)"
      ]
     },
     "execution_count": 24,
     "metadata": {},
     "output_type": "execute_result"
    },
    {
     "data": {
      "image/png": "[encoded data removed]",
      "text/plain": [
       "<Figure size 640x480 with 1 Axes>"
      ]
     },
     "metadata": {},
     "output_type": "display_data"
    }
   ],
   "source": [
    "nums = np.random.randn(1000)\n",
    "plt.hist(nums, bins = 30)"
   ]
  },
  {
   "cell_type": "markdown",
   "metadata": {},
   "source": [
    "# Pandas"
   ]
  },
  {
   "cell_type": "markdown",
   "metadata": {},
   "source": [
    "## 1. Read in a CSV () and display all the columns and their respective data types "
   ]
  },
  {
   "cell_type": "code",
   "execution_count": 25,
   "metadata": {},
   "outputs": [
    {
     "data": {
      "text/plain": [
       "sex       object\n",
       "weight     int64\n",
       "height     int64\n",
       "dtype: object"
      ]
     },
     "execution_count": 25,
     "metadata": {},
     "output_type": "execute_result"
    }
   ],
   "source": [
    "data = pd.read_csv('hw_data.csv', index_col = 'id')\n",
    "\n",
    "data.dtypes\n"
   ]
  },
  {
   "cell_type": "markdown",
   "metadata": {},
   "source": [
    "## 2. Find the average weight "
   ]
  },
  {
   "cell_type": "code",
   "execution_count": 26,
   "metadata": {},
   "outputs": [
    {
     "data": {
      "text/plain": [
       "135.71428571428572"
      ]
     },
     "execution_count": 26,
     "metadata": {},
     "output_type": "execute_result"
    }
   ],
   "source": [
    "data['weight'].mean()"
   ]
  },
  {
   "cell_type": "markdown",
   "metadata": {},
   "source": [
    "## 3. Find the Value Counts on column `sex` "
   ]
  },
  {
   "cell_type": "code",
   "execution_count": 27,
   "metadata": {},
   "outputs": [
    {
     "data": {
      "text/html": [
       "<div>\n",
       "<style scoped>\n",
       "    .dataframe tbody tr th:only-of-type {\n",
       "        vertical-align: middle;\n",
       "    }\n",
       "\n",
       "    .dataframe tbody tr th {\n",
       "        vertical-align: top;\n",
       "    }\n",
       "\n",
       "    .dataframe thead th {\n",
       "        text-align: right;\n",
       "    }\n",
       "</style>\n",
       "<table border=\"1\" class=\"dataframe\">\n",
       "  <thead>\n",
       "    <tr style=\"text-align: right;\">\n",
       "      <th></th>\n",
       "      <th>weight</th>\n",
       "      <th>height</th>\n",
       "    </tr>\n",
       "    <tr>\n",
       "      <th>sex</th>\n",
       "      <th></th>\n",
       "      <th></th>\n",
       "    </tr>\n",
       "  </thead>\n",
       "  <tbody>\n",
       "    <tr>\n",
       "      <th>F</th>\n",
       "      <td>3</td>\n",
       "      <td>3</td>\n",
       "    </tr>\n",
       "    <tr>\n",
       "      <th>M</th>\n",
       "      <td>3</td>\n",
       "      <td>3</td>\n",
       "    </tr>\n",
       "    <tr>\n",
       "      <th>O</th>\n",
       "      <td>1</td>\n",
       "      <td>1</td>\n",
       "    </tr>\n",
       "  </tbody>\n",
       "</table>\n",
       "</div>"
      ],
      "text/plain": [
       "     weight  height\n",
       "sex                \n",
       "F         3       3\n",
       "M         3       3\n",
       "O         1       1"
      ]
     },
     "execution_count": 27,
     "metadata": {},
     "output_type": "execute_result"
    }
   ],
   "source": [
    "data.groupby('sex').count()\n"
   ]
  },
  {
   "cell_type": "markdown",
   "metadata": {},
   "source": [
    "## 4. Plot Height vs. Weight "
   ]
  },
  {
   "cell_type": "code",
   "execution_count": 28,
   "metadata": {},
   "outputs": [
    {
     "data": {
      "image/png": "[encoded data removed]",
      "text/plain": [
       "<Figure size 640x480 with 1 Axes>"
      ]
     },
     "metadata": {},
     "output_type": "display_data"
    }
   ],
   "source": [
    "plt.scatter(data['height'], data['weight'])\n",
    "plt.xlabel('Height')\n",
    "plt.ylabel('Weight')\n",
    "plt.title('Height vs Weight')\n",
    "plt.show()"
   ]
  },
  {
   "cell_type": "markdown",
   "metadata": {},
   "source": [
    "## 5. Calculate BMI and save as a new column"
   ]
  },
  {
   "cell_type": "code",
   "execution_count": 29,
   "metadata": {},
   "outputs": [
    {
     "data": {
      "text/html": [
       "<div>\n",
       "<style scoped>\n",
       "    .dataframe tbody tr th:only-of-type {\n",
       "        vertical-align: middle;\n",
       "    }\n",
       "\n",
       "    .dataframe tbody tr th {\n",
       "        vertical-align: top;\n",
       "    }\n",
       "\n",
       "    .dataframe thead th {\n",
       "        text-align: right;\n",
       "    }\n",
       "</style>\n",
       "<table border=\"1\" class=\"dataframe\">\n",
       "  <thead>\n",
       "    <tr style=\"text-align: right;\">\n",
       "      <th></th>\n",
       "      <th>sex</th>\n",
       "      <th>weight</th>\n",
       "      <th>height</th>\n",
       "      <th>bmi</th>\n",
       "    </tr>\n",
       "    <tr>\n",
       "      <th>id</th>\n",
       "      <th></th>\n",
       "      <th></th>\n",
       "      <th></th>\n",
       "      <th></th>\n",
       "    </tr>\n",
       "  </thead>\n",
       "  <tbody>\n",
       "    <tr>\n",
       "      <th>1</th>\n",
       "      <td>M</td>\n",
       "      <td>190</td>\n",
       "      <td>77</td>\n",
       "      <td>32.045876</td>\n",
       "    </tr>\n",
       "    <tr>\n",
       "      <th>2</th>\n",
       "      <td>F</td>\n",
       "      <td>120</td>\n",
       "      <td>70</td>\n",
       "      <td>24.489796</td>\n",
       "    </tr>\n",
       "    <tr>\n",
       "      <th>3</th>\n",
       "      <td>F</td>\n",
       "      <td>110</td>\n",
       "      <td>68</td>\n",
       "      <td>23.788927</td>\n",
       "    </tr>\n",
       "    <tr>\n",
       "      <th>4</th>\n",
       "      <td>M</td>\n",
       "      <td>150</td>\n",
       "      <td>72</td>\n",
       "      <td>28.935185</td>\n",
       "    </tr>\n",
       "    <tr>\n",
       "      <th>5</th>\n",
       "      <td>O</td>\n",
       "      <td>120</td>\n",
       "      <td>66</td>\n",
       "      <td>27.548209</td>\n",
       "    </tr>\n",
       "    <tr>\n",
       "      <th>6</th>\n",
       "      <td>M</td>\n",
       "      <td>120</td>\n",
       "      <td>60</td>\n",
       "      <td>33.333333</td>\n",
       "    </tr>\n",
       "    <tr>\n",
       "      <th>7</th>\n",
       "      <td>F</td>\n",
       "      <td>140</td>\n",
       "      <td>70</td>\n",
       "      <td>28.571429</td>\n",
       "    </tr>\n",
       "  </tbody>\n",
       "</table>\n",
       "</div>"
      ],
      "text/plain": [
       "   sex  weight  height        bmi\n",
       "id                               \n",
       "1    M     190      77  32.045876\n",
       "2    F     120      70  24.489796\n",
       "3    F     110      68  23.788927\n",
       "4    M     150      72  28.935185\n",
       "5    O     120      66  27.548209\n",
       "6    M     120      60  33.333333\n",
       "7    F     140      70  28.571429"
      ]
     },
     "execution_count": 29,
     "metadata": {},
     "output_type": "execute_result"
    }
   ],
   "source": [
    "bmi = data['weight'] / np.square(data['height']) * 1000\n",
    "data['bmi'] = bmi\n",
    "data"
   ]
  },
  {
   "cell_type": "markdown",
   "metadata": {},
   "source": [
    "## 6. Save sheet as a new CSV file `hw_dataB.csv`"
   ]
  },
  {
   "cell_type": "code",
   "execution_count": 30,
   "metadata": {},
   "outputs": [],
   "source": [
    "data.to_csv('hw_dataB.csv')"
   ]
  },
  {
   "cell_type": "markdown",
   "metadata": {},
   "source": [
    "## Run the following (Mac)"
   ]
  },
  {
   "cell_type": "code",
   "execution_count": null,
   "metadata": {},
   "outputs": [],
   "source": [
    "!cat hw_dataB.csv"
   ]
  },
  {
   "cell_type": "markdown",
   "metadata": {},
   "source": [
    "## Run the following (Windows) "
   ]
  },
  {
   "cell_type": "code",
   "execution_count": 31,
   "metadata": {},
   "outputs": [
    {
     "name": "stdout",
     "output_type": "stream",
     "text": [
      "id,sex,weight,height,bmi\n",
      "1,M,190,77,32.045876201720354\n",
      "2,F,120,70,24.489795918367346\n",
      "3,F,110,68,23.78892733564014\n",
      "4,M,150,72,28.935185185185187\n",
      "5,O,120,66,27.548209366391184\n",
      "6,M,120,60,33.333333333333336\n",
      "7,F,140,70,28.57142857142857\n"
     ]
    }
   ],
   "source": [
    "!type hw_dataB.csv"
   ]
  }
 ],
 "metadata": {
  "kernelspec": {
   "display_name": "Python 3 (ipykernel)",
   "language": "python",
   "name": "python3"
  },
  "language_info": {
   "codemirror_mode": {
    "name": "ipython",
    "version": 3
   },
   "file_extension": ".py",
   "mimetype": "text/x-python",
   "name": "python",
   "nbconvert_exporter": "python",
   "pygments_lexer": "ipython3",
   "version": "3.11.5"
  }
 },
 "nbformat": 4,
 "nbformat_minor": 1
}

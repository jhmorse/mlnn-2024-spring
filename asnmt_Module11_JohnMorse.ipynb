{
 "cells": [
  {
   "cell_type": "markdown",
   "metadata": {},
   "source": [
    "# Neural Networks image recognition - ConvNet\n",
    "\n",
    "1. Add random noise (see below on `size parameter` on [`np.random.normal`](https://numpy.org/doc/stable/reference/random/generated/numpy.random.normal.html)) to the images in training and testing. **Make sure each image gets a different noise feature added to it. Inspect by printing out several images. Note - the `size` parameter should match the data. **\n",
    "2. Compare the `accuracy` of train and val after N epochs for MLNN with and without noise. \n",
    "3. Vary the amount of noise by changing the `scale` parameter in `np.random.normal` by a factor. Use `.1, .5, 1.0, 2.0, 4.0` for the `scale` and keep track of the `accuracy` for training and validation and plot these results.\n",
    "4. Compare these results with the previous week where we used a MultiLayer Perceptron (this week we use a ConvNet). "
   ]
  },
  {
   "cell_type": "markdown",
   "metadata": {},
   "source": [
    "# Neural Networks - Image Recognition "
   ]
  },
  {
   "cell_type": "code",
   "execution_count": 1,
   "metadata": {},
   "outputs": [],
   "source": [
    "import keras\n",
    "from keras.datasets import mnist\n",
    "from keras.models import Sequential\n",
    "from keras.optimizers import RMSprop\n",
    "from keras.layers import Dense, Dropout, Flatten\n",
    "from keras.layers import Conv2D, MaxPooling2D\n",
    "from keras import backend"
   ]
  },
  {
   "cell_type": "markdown",
   "metadata": {},
   "source": [
    "## Conv Net\n",
    "Trains a simple convnet on the MNIST dataset.\n",
    "Gets to 99.25% test accuracy after 12 epochs\n",
    "(there is still a lot of margin for parameter tuning).\n"
   ]
  },
  {
   "cell_type": "code",
   "execution_count": 3,
   "metadata": {
    "scrolled": true
   },
   "outputs": [
    {
     "name": "stdout",
     "output_type": "stream",
     "text": [
      "x_train shape: (60000, 28, 28, 1)\n",
      "60000 train samples\n",
      "10000 test samples\n"
     ]
    }
   ],
   "source": [
    "# input image dimensions\n",
    "img_rows, img_cols = 28, 28\n",
    "\n",
    "# the data, shuffled and split between train and test sets\n",
    "(x_train, y_train), (x_test, y_test) = mnist.load_data()\n",
    "\n",
    "if backend.image_data_format() == 'channels_first':\n",
    "    x_train = x_train.reshape(x_train.shape[0], 1, img_rows, img_cols)\n",
    "    x_test = x_test.reshape(x_test.shape[0], 1, img_rows, img_cols)\n",
    "    input_shape = (1, img_rows, img_cols)\n",
    "else:\n",
    "    x_train = x_train.reshape(x_train.shape[0], img_rows, img_cols, 1)\n",
    "    x_test = x_test.reshape(x_test.shape[0], img_rows, img_cols, 1)\n",
    "    input_shape = (img_rows, img_cols, 1)\n",
    "\n",
    "x_train = x_train.astype('float32')\n",
    "x_test = x_test.astype('float32')\n",
    "x_train /= 255\n",
    "x_test /= 255\n",
    "print('x_train shape:', x_train.shape)\n",
    "print(x_train.shape[0], 'train samples')\n",
    "print(x_test.shape[0], 'test samples')"
   ]
  },
  {
   "cell_type": "code",
   "execution_count": 4,
   "metadata": {},
   "outputs": [
    {
     "name": "stderr",
     "output_type": "stream",
     "text": [
      "c:\\Users\\jomors\\AppData\\Local\\anaconda3\\Lib\\site-packages\\keras\\src\\layers\\convolutional\\base_conv.py:99: UserWarning: Do not pass an `input_shape`/`input_dim` argument to a layer. When using Sequential models, prefer using an `Input(shape)` object as the first layer in the model instead.\n",
      "  super().__init__(\n"
     ]
    },
    {
     "name": "stdout",
     "output_type": "stream",
     "text": [
      "Epoch 1/12\n",
      "\u001b[1m469/469\u001b[0m \u001b[32m━━━━━━━━━━━━━━━━━━━━\u001b[0m\u001b[37m\u001b[0m \u001b[1m18s\u001b[0m 35ms/step - accuracy: 0.1322 - loss: 2.2982 - val_accuracy: 0.2869 - val_loss: 2.2459\n",
      "Epoch 2/12\n",
      "\u001b[1m469/469\u001b[0m \u001b[32m━━━━━━━━━━━━━━━━━━━━\u001b[0m\u001b[37m\u001b[0m \u001b[1m17s\u001b[0m 35ms/step - accuracy: 0.2319 - loss: 2.2407 - val_accuracy: 0.3952 - val_loss: 2.1701\n",
      "Epoch 3/12\n",
      "\u001b[1m469/469\u001b[0m \u001b[32m━━━━━━━━━━━━━━━━━━━━\u001b[0m\u001b[37m\u001b[0m \u001b[1m17s\u001b[0m 35ms/step - accuracy: 0.3187 - loss: 2.1677 - val_accuracy: 0.5167 - val_loss: 2.0721\n",
      "Epoch 4/12\n",
      "\u001b[1m469/469\u001b[0m \u001b[32m━━━━━━━━━━━━━━━━━━━━\u001b[0m\u001b[37m\u001b[0m \u001b[1m17s\u001b[0m 35ms/step - accuracy: 0.4009 - loss: 2.0733 - val_accuracy: 0.5995 - val_loss: 1.9433\n",
      "Epoch 5/12\n",
      "\u001b[1m469/469\u001b[0m \u001b[32m━━━━━━━━━━━━━━━━━━━━\u001b[0m\u001b[37m\u001b[0m \u001b[1m16s\u001b[0m 35ms/step - accuracy: 0.4679 - loss: 1.9509 - val_accuracy: 0.6690 - val_loss: 1.7789\n",
      "Epoch 6/12\n",
      "\u001b[1m469/469\u001b[0m \u001b[32m━━━━━━━━━━━━━━━━━━━━\u001b[0m\u001b[37m\u001b[0m \u001b[1m16s\u001b[0m 35ms/step - accuracy: 0.5250 - loss: 1.8042 - val_accuracy: 0.7096 - val_loss: 1.5872\n",
      "Epoch 7/12\n",
      "\u001b[1m469/469\u001b[0m \u001b[32m━━━━━━━━━━━━━━━━━━━━\u001b[0m\u001b[37m\u001b[0m \u001b[1m16s\u001b[0m 35ms/step - accuracy: 0.5669 - loss: 1.6407 - val_accuracy: 0.7446 - val_loss: 1.3910\n",
      "Epoch 8/12\n",
      "\u001b[1m469/469\u001b[0m \u001b[32m━━━━━━━━━━━━━━━━━━━━\u001b[0m\u001b[37m\u001b[0m \u001b[1m16s\u001b[0m 34ms/step - accuracy: 0.6029 - loss: 1.4788 - val_accuracy: 0.7684 - val_loss: 1.2103\n",
      "Epoch 9/12\n",
      "\u001b[1m469/469\u001b[0m \u001b[32m━━━━━━━━━━━━━━━━━━━━\u001b[0m\u001b[37m\u001b[0m \u001b[1m16s\u001b[0m 35ms/step - accuracy: 0.6276 - loss: 1.3362 - val_accuracy: 0.7883 - val_loss: 1.0578\n",
      "Epoch 10/12\n",
      "\u001b[1m469/469\u001b[0m \u001b[32m━━━━━━━━━━━━━━━━━━━━\u001b[0m\u001b[37m\u001b[0m \u001b[1m16s\u001b[0m 35ms/step - accuracy: 0.6526 - loss: 1.2170 - val_accuracy: 0.8028 - val_loss: 0.9363\n",
      "Epoch 11/12\n",
      "\u001b[1m469/469\u001b[0m \u001b[32m━━━━━━━━━━━━━━━━━━━━\u001b[0m\u001b[37m\u001b[0m \u001b[1m16s\u001b[0m 35ms/step - accuracy: 0.6755 - loss: 1.1194 - val_accuracy: 0.8170 - val_loss: 0.8413\n",
      "Epoch 12/12\n",
      "\u001b[1m469/469\u001b[0m \u001b[32m━━━━━━━━━━━━━━━━━━━━\u001b[0m\u001b[37m\u001b[0m \u001b[1m16s\u001b[0m 35ms/step - accuracy: 0.6896 - loss: 1.0432 - val_accuracy: 0.8291 - val_loss: 0.7666\n",
      "Test loss: 0.7674536108970642\n",
      "Test accuracy: 0.8291000127792358\n"
     ]
    }
   ],
   "source": [
    "batch_size = 128\n",
    "num_classes = 10\n",
    "epochs = 12\n",
    "\n",
    "# convert class vectors to binary class matrices\n",
    "y_train = keras.utils.to_categorical(y_train, num_classes)\n",
    "y_test = keras.utils.to_categorical(y_test, num_classes)\n",
    "\n",
    "model = Sequential()\n",
    "model.add(Conv2D(32, kernel_size=(3, 3),\n",
    "                 activation='relu',\n",
    "                 input_shape=input_shape))\n",
    "model.add(Conv2D(64, (3, 3), activation='relu'))\n",
    "model.add(MaxPooling2D(pool_size=(2, 2)))\n",
    "model.add(Dropout(0.25))\n",
    "model.add(Flatten())\n",
    "model.add(Dense(128, activation='relu'))\n",
    "model.add(Dropout(0.5))\n",
    "model.add(Dense(num_classes, activation='softmax'))\n",
    "\n",
    "model.compile(loss=keras.losses.categorical_crossentropy,\n",
    "              optimizer=keras.optimizers.Adadelta(),\n",
    "              metrics=['accuracy'])\n",
    "\n",
    "model.fit(x_train, y_train,\n",
    "          batch_size=batch_size,\n",
    "          epochs=epochs,\n",
    "          verbose=1,\n",
    "          validation_data=(x_test, y_test))\n",
    "score = model.evaluate(x_test, y_test, verbose=0)\n",
    "print('Test loss:', score[0])\n",
    "print('Test accuracy:', score[1])"
   ]
  },
  {
   "cell_type": "markdown",
   "metadata": {},
   "source": [
    "The above provides the Loss and Accuracy for the _clean_ data. We need to store this and start introducing _noise_."
   ]
  },
  {
   "cell_type": "code",
   "execution_count": 6,
   "metadata": {
    "collapsed": true
   },
   "outputs": [],
   "source": [
    "# Create empty arrays to store loss and accuracy scores\n",
    "loss = []\n",
    "accuracy = []\n",
    "labels = []\n",
    "\n",
    "# Add the scores for hte clean data to the arrays\n",
    "loss.append(score[0])\n",
    "accuracy.append(score[1])\n",
    "labels.append('Clean')\n",
    "\n"
   ]
  },
  {
   "cell_type": "markdown",
   "metadata": {},
   "source": [
    "#### 1. Add random noise to each image"
   ]
  },
  {
   "cell_type": "code",
   "execution_count": 7,
   "metadata": {},
   "outputs": [],
   "source": [
    "import numpy as np\n",
    "import matplotlib.pyplot as plt"
   ]
  },
  {
   "cell_type": "code",
   "execution_count": 24,
   "metadata": {},
   "outputs": [],
   "source": [
    "# Copy the training data to use to insert noise\n",
    "x_train_noisy = x_train.copy()\n",
    "\n",
    "# Noise is added here\n",
    "# The max value of the noise should not grossly surpass 1.0\n",
    "\n",
    "for i in range(len(x_train_noisy)):\n",
    "    rvals = np.random.normal(0, 0.1, x_train_noisy[i].shape)\n",
    "    x_train_noisy[i] = x_train_noisy[i] + rvals"
   ]
  },
  {
   "cell_type": "code",
   "execution_count": 25,
   "metadata": {},
   "outputs": [
    {
     "data": {
      "text/plain": [
       "<matplotlib.image.AxesImage at 0x27522a83f50>"
      ]
     },
     "execution_count": 25,
     "metadata": {},
     "output_type": "execute_result"
    },
    {
     "data": {
      "image/png": "[encoded data removed]",
      "text/plain": [
       "<Figure size 640x480 with 1 Axes>"
      ]
     },
     "metadata": {},
     "output_type": "display_data"
    }
   ],
   "source": [
    "# Display an original image\n",
    "plt.imshow(x_train[42].reshape(28,28))"
   ]
  },
  {
   "cell_type": "code",
   "execution_count": 26,
   "metadata": {},
   "outputs": [
    {
     "data": {
      "text/plain": [
       "<matplotlib.image.AxesImage at 0x27522c46850>"
      ]
     },
     "execution_count": 26,
     "metadata": {},
     "output_type": "execute_result"
    },
    {
     "data": {
      "image/png": "[encoded data removed]",
      "text/plain": [
       "<Figure size 640x480 with 1 Axes>"
      ]
     },
     "metadata": {},
     "output_type": "display_data"
    }
   ],
   "source": [
    "# Display a noisy image\n",
    "plt.imshow(x_train_noisy[42].reshape(28,28))"
   ]
  },
  {
   "cell_type": "code",
   "execution_count": 27,
   "metadata": {},
   "outputs": [
    {
     "data": {
      "text/plain": [
       "<matplotlib.image.AxesImage at 0x27522cb8750>"
      ]
     },
     "execution_count": 27,
     "metadata": {},
     "output_type": "execute_result"
    },
    {
     "data": {
      "image/png": "[encoded data removed]",
      "text/plain": [
       "<Figure size 640x480 with 1 Axes>"
      ]
     },
     "metadata": {},
     "output_type": "display_data"
    }
   ],
   "source": [
    "# Display a noisy image\n",
    "plt.imshow(x_train_noisy[138].reshape(28,28))"
   ]
  },
  {
   "cell_type": "code",
   "execution_count": 29,
   "metadata": {},
   "outputs": [
    {
     "data": {
      "text/plain": [
       "<matplotlib.image.AxesImage at 0x27522b47990>"
      ]
     },
     "execution_count": 29,
     "metadata": {},
     "output_type": "execute_result"
    },
    {
     "data": {
      "image/png": "[encoded data removed]",
      "text/plain": [
       "<Figure size 640x480 with 1 Axes>"
      ]
     },
     "metadata": {},
     "output_type": "display_data"
    }
   ],
   "source": [
    "# Display a noisy image\n",
    "plt.imshow(x_train_noisy[913].reshape(28,28))"
   ]
  },
  {
   "cell_type": "markdown",
   "metadata": {},
   "source": [
    "#### 2. Run the model against the noisy data and compare loss and accuracy."
   ]
  },
  {
   "cell_type": "code",
   "execution_count": 30,
   "metadata": {},
   "outputs": [
    {
     "name": "stdout",
     "output_type": "stream",
     "text": [
      "Epoch 1/12\n",
      "\u001b[1m469/469\u001b[0m \u001b[32m━━━━━━━━━━━━━━━━━━━━\u001b[0m\u001b[37m\u001b[0m \u001b[1m18s\u001b[0m 38ms/step - accuracy: 0.6961 - loss: 1.0102 - val_accuracy: 0.8323 - val_loss: 0.7128\n",
      "Epoch 2/12\n",
      "\u001b[1m469/469\u001b[0m \u001b[32m━━━━━━━━━━━━━━━━━━━━\u001b[0m\u001b[37m\u001b[0m \u001b[1m20s\u001b[0m 43ms/step - accuracy: 0.7115 - loss: 0.9529 - val_accuracy: 0.8403 - val_loss: 0.6656\n",
      "Epoch 3/12\n",
      "\u001b[1m469/469\u001b[0m \u001b[32m━━━━━━━━━━━━━━━━━━━━\u001b[0m\u001b[37m\u001b[0m \u001b[1m22s\u001b[0m 48ms/step - accuracy: 0.7285 - loss: 0.8952 - val_accuracy: 0.8488 - val_loss: 0.6260\n",
      "Epoch 4/12\n",
      "\u001b[1m469/469\u001b[0m \u001b[32m━━━━━━━━━━━━━━━━━━━━\u001b[0m\u001b[37m\u001b[0m \u001b[1m21s\u001b[0m 44ms/step - accuracy: 0.7376 - loss: 0.8653 - val_accuracy: 0.8552 - val_loss: 0.5918\n",
      "Epoch 5/12\n",
      "\u001b[1m469/469\u001b[0m \u001b[32m━━━━━━━━━━━━━━━━━━━━\u001b[0m\u001b[37m\u001b[0m \u001b[1m21s\u001b[0m 46ms/step - accuracy: 0.7456 - loss: 0.8318 - val_accuracy: 0.8603 - val_loss: 0.5626\n",
      "Epoch 6/12\n",
      "\u001b[1m469/469\u001b[0m \u001b[32m━━━━━━━━━━━━━━━━━━━━\u001b[0m\u001b[37m\u001b[0m \u001b[1m18s\u001b[0m 39ms/step - accuracy: 0.7550 - loss: 0.7989 - val_accuracy: 0.8644 - val_loss: 0.5372\n",
      "Epoch 7/12\n",
      "\u001b[1m469/469\u001b[0m \u001b[32m━━━━━━━━━━━━━━━━━━━━\u001b[0m\u001b[37m\u001b[0m \u001b[1m18s\u001b[0m 38ms/step - accuracy: 0.7637 - loss: 0.7692 - val_accuracy: 0.8684 - val_loss: 0.5151\n",
      "Epoch 8/12\n",
      "\u001b[1m469/469\u001b[0m \u001b[32m━━━━━━━━━━━━━━━━━━━━\u001b[0m\u001b[37m\u001b[0m \u001b[1m22s\u001b[0m 47ms/step - accuracy: 0.7720 - loss: 0.7465 - val_accuracy: 0.8718 - val_loss: 0.4957\n",
      "Epoch 9/12\n",
      "\u001b[1m469/469\u001b[0m \u001b[32m━━━━━━━━━━━━━━━━━━━━\u001b[0m\u001b[37m\u001b[0m \u001b[1m22s\u001b[0m 47ms/step - accuracy: 0.7789 - loss: 0.7243 - val_accuracy: 0.8759 - val_loss: 0.4790\n",
      "Epoch 10/12\n",
      "\u001b[1m469/469\u001b[0m \u001b[32m━━━━━━━━━━━━━━━━━━━━\u001b[0m\u001b[37m\u001b[0m \u001b[1m21s\u001b[0m 45ms/step - accuracy: 0.7852 - loss: 0.7023 - val_accuracy: 0.8778 - val_loss: 0.4638\n",
      "Epoch 11/12\n",
      "\u001b[1m469/469\u001b[0m \u001b[32m━━━━━━━━━━━━━━━━━━━━\u001b[0m\u001b[37m\u001b[0m \u001b[1m22s\u001b[0m 47ms/step - accuracy: 0.7893 - loss: 0.6838 - val_accuracy: 0.8810 - val_loss: 0.4505\n",
      "Epoch 12/12\n",
      "\u001b[1m469/469\u001b[0m \u001b[32m━━━━━━━━━━━━━━━━━━━━\u001b[0m\u001b[37m\u001b[0m \u001b[1m22s\u001b[0m 47ms/step - accuracy: 0.7931 - loss: 0.6687 - val_accuracy: 0.8823 - val_loss: 0.4386\n",
      "Test loss: 0.43899399042129517\n",
      "Test accuracy: 0.8823000192642212\n"
     ]
    }
   ],
   "source": [
    "model.fit(x_train_noisy, y_train,\n",
    "          batch_size=batch_size,\n",
    "          epochs=epochs,\n",
    "          verbose=1,\n",
    "          validation_data=(x_test, y_test))\n",
    "score = model.evaluate(x_test, y_test, verbose=0)\n",
    "print('Test loss:', score[0])\n",
    "print('Test accuracy:', score[1])"
   ]
  },
  {
   "cell_type": "code",
   "execution_count": 31,
   "metadata": {},
   "outputs": [],
   "source": [
    "# Append the loss and accuracy to the arrays\n",
    "loss.append(score[0])\n",
    "accuracy.append(score[1])\n",
    "labels.append('Noise: 0.1')"
   ]
  },
  {
   "cell_type": "code",
   "execution_count": 37,
   "metadata": {},
   "outputs": [
    {
     "data": {
      "image/png": "[encoded data removed]",
      "text/plain": [
       "<Figure size 640x480 with 1 Axes>"
      ]
     },
     "metadata": {},
     "output_type": "display_data"
    }
   ],
   "source": [
    "# Define the x-axis values\n",
    "x = np.arange(len(labels))\n",
    "\n",
    "# Define the width of each bar\n",
    "width = 0.35\n",
    "\n",
    "# Create the figure and axes\n",
    "fig, ax = plt.subplots()\n",
    "# Plot the loss bars\n",
    "ax.bar(x - width/2, loss, width, label='Loss')\n",
    "# Plot the accuracy bars\n",
    "ax.bar(x + width/2, accuracy, width, label='Accuracy')\n",
    "# Set the x-axis labels\n",
    "ax.set_xticks(x)\n",
    "ax.set_xticklabels(labels)\n",
    "# Set the y-axis label\n",
    "ax.set_ylabel('Value')\n",
    "# Set the chart title\n",
    "ax.set_title('Loss and Accuracy')\n",
    "# Add a legend\n",
    "ax.legend(loc='lower right')\n",
    "# Show the chart\n",
    "plt.show()\n"
   ]
  },
  {
   "cell_type": "markdown",
   "metadata": {},
   "source": [
    "Based on the results above, we actually have reduced loss and increased accuracy with the noisy data. Presumably this is due to possible overfitting introduced with the clean data."
   ]
  },
  {
   "cell_type": "markdown",
   "metadata": {},
   "source": [
    "#### 3. Vary the amount of noise.\n",
    "\n",
    "Next we loop through the remaining scale values for introducing noise, then run models agianst each."
   ]
  },
  {
   "cell_type": "code",
   "execution_count": 39,
   "metadata": {},
   "outputs": [
    {
     "name": "stdout",
     "output_type": "stream",
     "text": [
      "Epoch 1/12\n",
      "\u001b[1m469/469\u001b[0m \u001b[32m━━━━━━━━━━━━━━━━━━━━\u001b[0m\u001b[37m\u001b[0m \u001b[1m18s\u001b[0m 38ms/step - accuracy: 0.7193 - loss: 0.8694 - val_accuracy: 0.8679 - val_loss: 0.4682\n",
      "Epoch 2/12\n",
      "\u001b[1m469/469\u001b[0m \u001b[32m━━━━━━━━━━━━━━━━━━━━\u001b[0m\u001b[37m\u001b[0m \u001b[1m20s\u001b[0m 42ms/step - accuracy: 0.7355 - loss: 0.8266 - val_accuracy: 0.8695 - val_loss: 0.4641\n",
      "Epoch 3/12\n",
      "\u001b[1m469/469\u001b[0m \u001b[32m━━━━━━━━━━━━━━━━━━━━\u001b[0m\u001b[37m\u001b[0m \u001b[1m20s\u001b[0m 43ms/step - accuracy: 0.7419 - loss: 0.8123 - val_accuracy: 0.8715 - val_loss: 0.4575\n",
      "Epoch 4/12\n",
      "\u001b[1m469/469\u001b[0m \u001b[32m━━━━━━━━━━━━━━━━━━━━\u001b[0m\u001b[37m\u001b[0m \u001b[1m19s\u001b[0m 40ms/step - accuracy: 0.7472 - loss: 0.7926 - val_accuracy: 0.8742 - val_loss: 0.4486\n",
      "Epoch 5/12\n",
      "\u001b[1m469/469\u001b[0m \u001b[32m━━━━━━━━━━━━━━━━━━━━\u001b[0m\u001b[37m\u001b[0m \u001b[1m20s\u001b[0m 43ms/step - accuracy: 0.7491 - loss: 0.7857 - val_accuracy: 0.8757 - val_loss: 0.4423\n",
      "Epoch 6/12\n",
      "\u001b[1m469/469\u001b[0m \u001b[32m━━━━━━━━━━━━━━━━━━━━\u001b[0m\u001b[37m\u001b[0m \u001b[1m20s\u001b[0m 42ms/step - accuracy: 0.7499 - loss: 0.7801 - val_accuracy: 0.8767 - val_loss: 0.4361\n",
      "Epoch 7/12\n",
      "\u001b[1m469/469\u001b[0m \u001b[32m━━━━━━━━━━━━━━━━━━━━\u001b[0m\u001b[37m\u001b[0m \u001b[1m20s\u001b[0m 42ms/step - accuracy: 0.7566 - loss: 0.7598 - val_accuracy: 0.8777 - val_loss: 0.4318\n",
      "Epoch 8/12\n",
      "\u001b[1m469/469\u001b[0m \u001b[32m━━━━━━━━━━━━━━━━━━━━\u001b[0m\u001b[37m\u001b[0m \u001b[1m20s\u001b[0m 43ms/step - accuracy: 0.7612 - loss: 0.7467 - val_accuracy: 0.8785 - val_loss: 0.4251\n",
      "Epoch 9/12\n",
      "\u001b[1m469/469\u001b[0m \u001b[32m━━━━━━━━━━━━━━━━━━━━\u001b[0m\u001b[37m\u001b[0m \u001b[1m18s\u001b[0m 39ms/step - accuracy: 0.7598 - loss: 0.7528 - val_accuracy: 0.8792 - val_loss: 0.4200\n",
      "Epoch 10/12\n",
      "\u001b[1m469/469\u001b[0m \u001b[32m━━━━━━━━━━━━━━━━━━━━\u001b[0m\u001b[37m\u001b[0m \u001b[1m22s\u001b[0m 47ms/step - accuracy: 0.7617 - loss: 0.7450 - val_accuracy: 0.8802 - val_loss: 0.4165\n",
      "Epoch 11/12\n",
      "\u001b[1m469/469\u001b[0m \u001b[32m━━━━━━━━━━━━━━━━━━━━\u001b[0m\u001b[37m\u001b[0m \u001b[1m23s\u001b[0m 48ms/step - accuracy: 0.7682 - loss: 0.7299 - val_accuracy: 0.8806 - val_loss: 0.4121\n",
      "Epoch 12/12\n",
      "\u001b[1m469/469\u001b[0m \u001b[32m━━━━━━━━━━━━━━━━━━━━\u001b[0m\u001b[37m\u001b[0m \u001b[1m20s\u001b[0m 43ms/step - accuracy: 0.7691 - loss: 0.7240 - val_accuracy: 0.8814 - val_loss: 0.4074\n",
      "Epoch 1/12\n",
      "\u001b[1m469/469\u001b[0m \u001b[32m━━━━━━━━━━━━━━━━━━━━\u001b[0m\u001b[37m\u001b[0m \u001b[1m19s\u001b[0m 41ms/step - accuracy: 0.6158 - loss: 1.1675 - val_accuracy: 0.8704 - val_loss: 0.4490\n",
      "Epoch 2/12\n",
      "\u001b[1m469/469\u001b[0m \u001b[32m━━━━━━━━━━━━━━━━━━━━\u001b[0m\u001b[37m\u001b[0m \u001b[1m20s\u001b[0m 42ms/step - accuracy: 0.6272 - loss: 1.1144 - val_accuracy: 0.8707 - val_loss: 0.4526\n",
      "Epoch 3/12\n",
      "\u001b[1m469/469\u001b[0m \u001b[32m━━━━━━━━━━━━━━━━━━━━\u001b[0m\u001b[37m\u001b[0m \u001b[1m22s\u001b[0m 46ms/step - accuracy: 0.6301 - loss: 1.1106 - val_accuracy: 0.8702 - val_loss: 0.4546\n",
      "Epoch 4/12\n",
      "\u001b[1m469/469\u001b[0m \u001b[32m━━━━━━━━━━━━━━━━━━━━\u001b[0m\u001b[37m\u001b[0m \u001b[1m20s\u001b[0m 43ms/step - accuracy: 0.6318 - loss: 1.1040 - val_accuracy: 0.8694 - val_loss: 0.4548\n",
      "Epoch 5/12\n",
      "\u001b[1m469/469\u001b[0m \u001b[32m━━━━━━━━━━━━━━━━━━━━\u001b[0m\u001b[37m\u001b[0m \u001b[1m23s\u001b[0m 48ms/step - accuracy: 0.6338 - loss: 1.0985 - val_accuracy: 0.8688 - val_loss: 0.4548\n",
      "Epoch 6/12\n",
      "\u001b[1m469/469\u001b[0m \u001b[32m━━━━━━━━━━━━━━━━━━━━\u001b[0m\u001b[37m\u001b[0m \u001b[1m21s\u001b[0m 46ms/step - accuracy: 0.6354 - loss: 1.1011 - val_accuracy: 0.8698 - val_loss: 0.4527\n",
      "Epoch 7/12\n",
      "\u001b[1m469/469\u001b[0m \u001b[32m━━━━━━━━━━━━━━━━━━━━\u001b[0m\u001b[37m\u001b[0m \u001b[1m19s\u001b[0m 41ms/step - accuracy: 0.6340 - loss: 1.0920 - val_accuracy: 0.8701 - val_loss: 0.4521\n",
      "Epoch 8/12\n",
      "\u001b[1m469/469\u001b[0m \u001b[32m━━━━━━━━━━━━━━━━━━━━\u001b[0m\u001b[37m\u001b[0m \u001b[1m16s\u001b[0m 35ms/step - accuracy: 0.6431 - loss: 1.0721 - val_accuracy: 0.8689 - val_loss: 0.4533\n",
      "Epoch 9/12\n",
      "\u001b[1m469/469\u001b[0m \u001b[32m━━━━━━━━━━━━━━━━━━━━\u001b[0m\u001b[37m\u001b[0m \u001b[1m16s\u001b[0m 35ms/step - accuracy: 0.6398 - loss: 1.0844 - val_accuracy: 0.8686 - val_loss: 0.4529\n",
      "Epoch 10/12\n",
      "\u001b[1m469/469\u001b[0m \u001b[32m━━━━━━━━━━━━━━━━━━━━\u001b[0m\u001b[37m\u001b[0m \u001b[1m17s\u001b[0m 36ms/step - accuracy: 0.6411 - loss: 1.0770 - val_accuracy: 0.8690 - val_loss: 0.4522\n",
      "Epoch 11/12\n",
      "\u001b[1m469/469\u001b[0m \u001b[32m━━━━━━━━━━━━━━━━━━━━\u001b[0m\u001b[37m\u001b[0m \u001b[1m17s\u001b[0m 35ms/step - accuracy: 0.6430 - loss: 1.0709 - val_accuracy: 0.8683 - val_loss: 0.4530\n",
      "Epoch 12/12\n",
      "\u001b[1m469/469\u001b[0m \u001b[32m━━━━━━━━━━━━━━━━━━━━\u001b[0m\u001b[37m\u001b[0m \u001b[1m16s\u001b[0m 35ms/step - accuracy: 0.6442 - loss: 1.0714 - val_accuracy: 0.8686 - val_loss: 0.4539\n",
      "Epoch 1/12\n",
      "\u001b[1m469/469\u001b[0m \u001b[32m━━━━━━━━━━━━━━━━━━━━\u001b[0m\u001b[37m\u001b[0m \u001b[1m17s\u001b[0m 35ms/step - accuracy: 0.3894 - loss: 1.9553 - val_accuracy: 0.8541 - val_loss: 0.5327\n",
      "Epoch 2/12\n",
      "\u001b[1m469/469\u001b[0m \u001b[32m━━━━━━━━━━━━━━━━━━━━\u001b[0m\u001b[37m\u001b[0m \u001b[1m17s\u001b[0m 35ms/step - accuracy: 0.3902 - loss: 1.7852 - val_accuracy: 0.8525 - val_loss: 0.5466\n",
      "Epoch 3/12\n",
      "\u001b[1m469/469\u001b[0m \u001b[32m━━━━━━━━━━━━━━━━━━━━\u001b[0m\u001b[37m\u001b[0m \u001b[1m17s\u001b[0m 36ms/step - accuracy: 0.3872 - loss: 1.7713 - val_accuracy: 0.8533 - val_loss: 0.5510\n",
      "Epoch 4/12\n",
      "\u001b[1m469/469\u001b[0m \u001b[32m━━━━━━━━━━━━━━━━━━━━\u001b[0m\u001b[37m\u001b[0m \u001b[1m17s\u001b[0m 36ms/step - accuracy: 0.3882 - loss: 1.7698 - val_accuracy: 0.8507 - val_loss: 0.5570\n",
      "Epoch 5/12\n",
      "\u001b[1m469/469\u001b[0m \u001b[32m━━━━━━━━━━━━━━━━━━━━\u001b[0m\u001b[37m\u001b[0m \u001b[1m17s\u001b[0m 36ms/step - accuracy: 0.3916 - loss: 1.7667 - val_accuracy: 0.8502 - val_loss: 0.5583\n",
      "Epoch 6/12\n",
      "\u001b[1m469/469\u001b[0m \u001b[32m━━━━━━━━━━━━━━━━━━━━\u001b[0m\u001b[37m\u001b[0m \u001b[1m17s\u001b[0m 35ms/step - accuracy: 0.3898 - loss: 1.7688 - val_accuracy: 0.8505 - val_loss: 0.5596\n",
      "Epoch 7/12\n",
      "\u001b[1m469/469\u001b[0m \u001b[32m━━━━━━━━━━━━━━━━━━━━\u001b[0m\u001b[37m\u001b[0m \u001b[1m17s\u001b[0m 35ms/step - accuracy: 0.3952 - loss: 1.7662 - val_accuracy: 0.8500 - val_loss: 0.5642\n",
      "Epoch 8/12\n",
      "\u001b[1m469/469\u001b[0m \u001b[32m━━━━━━━━━━━━━━━━━━━━\u001b[0m\u001b[37m\u001b[0m \u001b[1m16s\u001b[0m 34ms/step - accuracy: 0.3954 - loss: 1.7575 - val_accuracy: 0.8493 - val_loss: 0.5652\n",
      "Epoch 9/12\n",
      "\u001b[1m469/469\u001b[0m \u001b[32m━━━━━━━━━━━━━━━━━━━━\u001b[0m\u001b[37m\u001b[0m \u001b[1m16s\u001b[0m 35ms/step - accuracy: 0.3990 - loss: 1.7549 - val_accuracy: 0.8490 - val_loss: 0.5693\n",
      "Epoch 10/12\n",
      "\u001b[1m469/469\u001b[0m \u001b[32m━━━━━━━━━━━━━━━━━━━━\u001b[0m\u001b[37m\u001b[0m \u001b[1m17s\u001b[0m 36ms/step - accuracy: 0.3970 - loss: 1.7471 - val_accuracy: 0.8481 - val_loss: 0.5727\n",
      "Epoch 11/12\n",
      "\u001b[1m469/469\u001b[0m \u001b[32m━━━━━━━━━━━━━━━━━━━━\u001b[0m\u001b[37m\u001b[0m \u001b[1m16s\u001b[0m 35ms/step - accuracy: 0.4061 - loss: 1.7395 - val_accuracy: 0.8472 - val_loss: 0.5743\n",
      "Epoch 12/12\n",
      "\u001b[1m469/469\u001b[0m \u001b[32m━━━━━━━━━━━━━━━━━━━━\u001b[0m\u001b[37m\u001b[0m \u001b[1m16s\u001b[0m 35ms/step - accuracy: 0.4025 - loss: 1.7423 - val_accuracy: 0.8465 - val_loss: 0.5780\n",
      "Epoch 1/12\n",
      "\u001b[1m469/469\u001b[0m \u001b[32m━━━━━━━━━━━━━━━━━━━━\u001b[0m\u001b[37m\u001b[0m \u001b[1m16s\u001b[0m 35ms/step - accuracy: 0.2237 - loss: 2.4564 - val_accuracy: 0.8387 - val_loss: 0.7120\n",
      "Epoch 2/12\n",
      "\u001b[1m469/469\u001b[0m \u001b[32m━━━━━━━━━━━━━━━━━━━━\u001b[0m\u001b[37m\u001b[0m \u001b[1m16s\u001b[0m 34ms/step - accuracy: 0.2050 - loss: 2.2231 - val_accuracy: 0.8401 - val_loss: 0.7489\n",
      "Epoch 3/12\n",
      "\u001b[1m469/469\u001b[0m \u001b[32m━━━━━━━━━━━━━━━━━━━━\u001b[0m\u001b[37m\u001b[0m \u001b[1m17s\u001b[0m 37ms/step - accuracy: 0.2009 - loss: 2.2107 - val_accuracy: 0.8395 - val_loss: 0.7646\n",
      "Epoch 4/12\n",
      "\u001b[1m469/469\u001b[0m \u001b[32m━━━━━━━━━━━━━━━━━━━━\u001b[0m\u001b[37m\u001b[0m \u001b[1m18s\u001b[0m 38ms/step - accuracy: 0.1946 - loss: 2.2173 - val_accuracy: 0.8388 - val_loss: 0.7754\n",
      "Epoch 5/12\n",
      "\u001b[1m469/469\u001b[0m \u001b[32m━━━━━━━━━━━━━━━━━━━━\u001b[0m\u001b[37m\u001b[0m \u001b[1m17s\u001b[0m 37ms/step - accuracy: 0.1993 - loss: 2.2090 - val_accuracy: 0.8379 - val_loss: 0.7800\n",
      "Epoch 6/12\n",
      "\u001b[1m469/469\u001b[0m \u001b[32m━━━━━━━━━━━━━━━━━━━━\u001b[0m\u001b[37m\u001b[0m \u001b[1m17s\u001b[0m 37ms/step - accuracy: 0.1986 - loss: 2.2043 - val_accuracy: 0.8366 - val_loss: 0.7835\n",
      "Epoch 7/12\n",
      "\u001b[1m469/469\u001b[0m \u001b[32m━━━━━━━━━━━━━━━━━━━━\u001b[0m\u001b[37m\u001b[0m \u001b[1m17s\u001b[0m 37ms/step - accuracy: 0.1996 - loss: 2.2057 - val_accuracy: 0.8361 - val_loss: 0.7889\n",
      "Epoch 8/12\n",
      "\u001b[1m469/469\u001b[0m \u001b[32m━━━━━━━━━━━━━━━━━━━━\u001b[0m\u001b[37m\u001b[0m \u001b[1m18s\u001b[0m 38ms/step - accuracy: 0.2027 - loss: 2.2056 - val_accuracy: 0.8372 - val_loss: 0.7915\n",
      "Epoch 9/12\n",
      "\u001b[1m469/469\u001b[0m \u001b[32m━━━━━━━━━━━━━━━━━━━━\u001b[0m\u001b[37m\u001b[0m \u001b[1m20s\u001b[0m 43ms/step - accuracy: 0.1964 - loss: 2.2068 - val_accuracy: 0.8354 - val_loss: 0.7941\n",
      "Epoch 10/12\n",
      "\u001b[1m469/469\u001b[0m \u001b[32m━━━━━━━━━━━━━━━━━━━━\u001b[0m\u001b[37m\u001b[0m \u001b[1m22s\u001b[0m 46ms/step - accuracy: 0.1981 - loss: 2.2076 - val_accuracy: 0.8351 - val_loss: 0.7996\n",
      "Epoch 11/12\n",
      "\u001b[1m469/469\u001b[0m \u001b[32m━━━━━━━━━━━━━━━━━━━━\u001b[0m\u001b[37m\u001b[0m \u001b[1m20s\u001b[0m 42ms/step - accuracy: 0.2020 - loss: 2.2093 - val_accuracy: 0.8340 - val_loss: 0.8043\n",
      "Epoch 12/12\n",
      "\u001b[1m469/469\u001b[0m \u001b[32m━━━━━━━━━━━━━━━━━━━━\u001b[0m\u001b[37m\u001b[0m \u001b[1m22s\u001b[0m 47ms/step - accuracy: 0.2012 - loss: 2.2031 - val_accuracy: 0.8342 - val_loss: 0.8073\n"
     ]
    }
   ],
   "source": [
    "# Vary the scale of the randomization to create noisy data\n",
    "noise_scale = [.5, 1.0, 2.0, 4.0]\n",
    "\n",
    "\n",
    "# Loop through the noise scale values\n",
    "for i in noise_scale:\n",
    "    # Copy the training data to use to insert noise\n",
    "    x_train_noisy = x_train.copy()\n",
    "\n",
    "    # Noise is added here\n",
    "\n",
    "    for j in range(len(x_train_noisy)):\n",
    "        rvals = np.random.normal(0, i, x_train_noisy[j].shape)\n",
    "        x_train_noisy[j] = x_train_noisy[j] + rvals\n",
    "\n",
    "    # Fit the noisy data\n",
    "    model.fit(x_train_noisy, y_train,\n",
    "              batch_size=batch_size,\n",
    "              epochs=epochs,\n",
    "              verbose=1,\n",
    "              validation_data=(x_test, y_test)) \n",
    "    score = model.evaluate(x_test, y_test, verbose=0)\n",
    "\n",
    "    # Append the loss and accuracy to the arrays\n",
    "    loss.append(score[0])\n",
    "    accuracy.append(score[1])\n",
    "    labels.append('Noise: ' + str(i))\n"
   ]
  },
  {
   "cell_type": "markdown",
   "metadata": {},
   "source": [
    "#### 4. Compariosn of results\n",
    "\n",
    "First, compare the different levels of loss and accuracy for this model."
   ]
  },
  {
   "cell_type": "code",
   "execution_count": 40,
   "metadata": {},
   "outputs": [
    {
     "data": {
      "image/png": "[encoded data removed]",
      "text/plain": [
       "<Figure size 640x480 with 1 Axes>"
      ]
     },
     "metadata": {},
     "output_type": "display_data"
    }
   ],
   "source": [
    "# Define the x-axis values\n",
    "x = np.arange(len(labels))\n",
    "\n",
    "# Define the width of each bar\n",
    "width = 0.35\n",
    "\n",
    "# Create the figure and axes\n",
    "fig, ax = plt.subplots()\n",
    "# Plot the loss bars\n",
    "ax.bar(x - width/2, loss, width, label='Loss')\n",
    "# Plot the accuracy bars\n",
    "ax.bar(x + width/2, accuracy, width, label='Accuracy')\n",
    "# Set the x-axis labels\n",
    "ax.set_xticks(x)\n",
    "ax.set_xticklabels(labels)\n",
    "# Set the y-axis label\n",
    "ax.set_ylabel('Value')\n",
    "# Set the chart title\n",
    "ax.set_title('Loss and Accuracy')\n",
    "# Add a legend\n",
    "ax.legend(loc='lower right')\n",
    "# Show the chart\n",
    "plt.show()\n"
   ]
  },
  {
   "cell_type": "markdown",
   "metadata": {},
   "source": [
    "Based on the chart, our best rate of loss, ~0.4, comes at a noise level of 0.5 (standard deviation for the random noise values). Accuracy, however, peaks when the noise level is at 0.1, though the accuracy is still very high at 0.5. We can view the actual values in the following table. There we can see accuracy tops out at 0.88."
   ]
  },
  {
   "cell_type": "code",
   "execution_count": 43,
   "metadata": {},
   "outputs": [
    {
     "data": {
      "text/html": [
       "<div>\n",
       "<style scoped>\n",
       "    .dataframe tbody tr th:only-of-type {\n",
       "        vertical-align: middle;\n",
       "    }\n",
       "\n",
       "    .dataframe tbody tr th {\n",
       "        vertical-align: top;\n",
       "    }\n",
       "\n",
       "    .dataframe thead th {\n",
       "        text-align: right;\n",
       "    }\n",
       "</style>\n",
       "<table border=\"1\" class=\"dataframe\">\n",
       "  <thead>\n",
       "    <tr style=\"text-align: right;\">\n",
       "      <th></th>\n",
       "      <th>Loss</th>\n",
       "      <th>Accuracy</th>\n",
       "    </tr>\n",
       "  </thead>\n",
       "  <tbody>\n",
       "    <tr>\n",
       "      <th>Clean</th>\n",
       "      <td>0.767454</td>\n",
       "      <td>0.8291</td>\n",
       "    </tr>\n",
       "    <tr>\n",
       "      <th>Noise: 0.1</th>\n",
       "      <td>0.438994</td>\n",
       "      <td>0.8823</td>\n",
       "    </tr>\n",
       "    <tr>\n",
       "      <th>Noise: 0.5</th>\n",
       "      <td>0.406979</td>\n",
       "      <td>0.8814</td>\n",
       "    </tr>\n",
       "    <tr>\n",
       "      <th>Noise: 1.0</th>\n",
       "      <td>0.453325</td>\n",
       "      <td>0.8686</td>\n",
       "    </tr>\n",
       "    <tr>\n",
       "      <th>Noise: 2.0</th>\n",
       "      <td>0.577897</td>\n",
       "      <td>0.8465</td>\n",
       "    </tr>\n",
       "    <tr>\n",
       "      <th>Noise: 4.0</th>\n",
       "      <td>0.807890</td>\n",
       "      <td>0.8342</td>\n",
       "    </tr>\n",
       "  </tbody>\n",
       "</table>\n",
       "</div>"
      ],
      "text/plain": [
       "                Loss  Accuracy\n",
       "Clean       0.767454    0.8291\n",
       "Noise: 0.1  0.438994    0.8823\n",
       "Noise: 0.5  0.406979    0.8814\n",
       "Noise: 1.0  0.453325    0.8686\n",
       "Noise: 2.0  0.577897    0.8465\n",
       "Noise: 4.0  0.807890    0.8342"
      ]
     },
     "execution_count": 43,
     "metadata": {},
     "output_type": "execute_result"
    }
   ],
   "source": [
    "import pandas as pd\n",
    "\n",
    "results = {\n",
    "    \"Loss\": [loss[0], loss[1], loss[2], loss[3], loss[4], loss[5]],\n",
    "    \"Accuracy\": [accuracy[0], accuracy[1], accuracy[2], accuracy[3], accuracy[4], accuracy[5]]\n",
    "}\n",
    "pd.DataFrame(results, index = labels)"
   ]
  },
  {
   "cell_type": "markdown",
   "metadata": {},
   "source": [
    "For the previous exercise, 0.88 was the lowest accuracy score we received, while the highest, again with a noise level of 0.1 standard devaition, was 0.98, indicating a much better result. Based on that outcome, I would tend to build the network without convolution for this particualr set of data."
   ]
  }
 ],
 "metadata": {
  "kernelspec": {
   "display_name": "Python 3 (ipykernel)",
   "language": "python",
   "name": "python3"
  },
  "language_info": {
   "codemirror_mode": {
    "name": "ipython",
    "version": 3
   },
   "file_extension": ".py",
   "mimetype": "text/x-python",
   "name": "python",
   "nbconvert_exporter": "python",
   "pygments_lexer": "ipython3",
   "version": "3.11.5"
  }
 },
 "nbformat": 4,
 "nbformat_minor": 2
}
